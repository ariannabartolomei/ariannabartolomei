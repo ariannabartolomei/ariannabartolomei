{
 "cells": [
  {
   "cell_type": "code",
   "execution_count": 10,
   "id": "569bc41e",
   "metadata": {},
   "outputs": [],
   "source": [
    "import json\n",
    "from datetime import datetime , timedelta\n",
    "\n",
    "import numpy as np\n",
    "#from mocpy import MOC , STMOC\n",
    "#from cdshealpix import healpix_to_skycoord\n",
    "import astropy.units as u\n",
    "from astropy.time import Time\n",
    "from astropy.coordinates import SkyCoord, EarthLocation, AltAz\n",
    "from astropy.table import QTable\n",
    "from astropy.samp import SAMPIntegratedClient\n",
    "from astroplan import Observer\n",
    "from matplotlib import pyplot as pl\n",
    "from scipy.stats import norm"
   ]
  },
  {
   "cell_type": "code",
   "execution_count": 11,
   "id": "10c10fac",
   "metadata": {},
   "outputs": [],
   "source": [
    "def samp_script_transmit(script):\n",
    "    \"\"\" Sending an Aladin script over SAMP.\n",
    "\n",
    "        Parameters\n",
    "        ----------\n",
    "        script : str\n",
    "        Aladin script command\n",
    "        \n",
    "        Returns\n",
    "        -------\n",
    "        Transmit a Aladin command when SAMP Hub is running.\n",
    "    \"\"\"\n",
    "    \n",
    "    client = SAMPIntegratedClient()\n",
    "    client.connect()\n",
    "    params = {}\n",
    "\n",
    "    message = {}\n",
    "    message [\"samp.mtype\"] = \"script.aladin.send\"\n",
    "    message [\"samp.params\"] = {'script': script}\n",
    "    \n",
    "    client.notify_all(message)\n",
    "    client.disconnect()"
   ]
  },
  {
   "cell_type": "code",
   "execution_count": 12,
   "id": "51d9ee75",
   "metadata": {},
   "outputs": [],
   "source": [
    "url = \"https://gracedb.ligo.org/api/superevents/S200316bj/files/LALInference.fits.gz\""
   ]
  },
  {
   "cell_type": "code",
   "execution_count": 13,
   "id": "fbd41527",
   "metadata": {},
   "outputs": [],
   "source": [
    "script = 'load ' + url"
   ]
  },
  {
   "cell_type": "code",
   "execution_count": 14,
   "id": "cd8bd098",
   "metadata": {},
   "outputs": [],
   "source": [
    "from tkinter import messagebox\n",
    "\n",
    "try:\n",
    "    samp_script_transmit(script)\n",
    "except:\n",
    "    messagebox.showwarning(\"Title\", \"Before running a function, you have to define it through the 'def' command.\")\n",
    "    messagebox.showerror(\"Title\", \"Please, go back and run the code which defines 'samp_script_transmit'.\") "
   ]
  },
  {
   "cell_type": "code",
   "execution_count": 15,
   "id": "c903cc7b",
   "metadata": {},
   "outputs": [],
   "source": [
    "from matplotlib import pyplot as pl\n",
    "from scipy.stats import norm\n",
    "\n",
    "def dist_dist_along_line_of_sight(url, ra, dec):\n",
    "    \"\"\"Conditional distance distribution along a given \n",
    "    line of sight, which is the probability per unit\n",
    "    distance under the assumption that the source is in a given direction.\"\"\"\n",
    "    \n",
    "    filename = download_file(url, cache=True)\n",
    "    \n",
    "    \n",
    "    h = hp.read_map(filename, h = True)\n",
    "    h = dict(h[1])\n",
    "    mean, std = h['DISTMEAN'], h['DISTSTD']\n",
    "\n",
    "    r = np.linspace(mean-5*std, mean+5*std)\n",
    "    m_dr = norm(mean, std).pdf(r)\n",
    "\n",
    "    prob, distmu, distsigma, distnorm = hp.read_map(filename, \n",
    "                                                    field=range(4))\n",
    "    npix = len(prob)\n",
    "    nside = hp.npix2nside(npix)\n",
    "\n",
    "    theta = 0.5 * np.pi - np.deg2rad(dec)\n",
    "    phi = np.deg2rad(ra)\n",
    "    \n",
    "    ipix = hp.ang2pix(nside, theta, phi)\n",
    "    \n",
    "    dp_dr = r**2 * distnorm[ipix] * norm(\n",
    "    distmu[ipix], distsigma[ipix]).pdf(r)\n",
    "    \n",
    "    return r, dp_dr, m_dr"
   ]
  },
  {
   "cell_type": "code",
   "execution_count": 16,
   "id": "f3590ec2",
   "metadata": {},
   "outputs": [],
   "source": [
    "from astropy.samp import SAMPIntegratedClient\n",
    "client = SAMPIntegratedClient()\n",
    "\n",
    "client.connect()"
   ]
  },
  {
   "cell_type": "code",
   "execution_count": 17,
   "id": "611f621e",
   "metadata": {},
   "outputs": [],
   "source": [
    "from tkinter import messagebox\n",
    "from astropy.samp import SAMPIntegratedClient\n",
    "client = SAMPIntegratedClient()\n",
    "\n",
    "try:\n",
    "     client.connect()\n",
    "except:\n",
    "    messagebox.showerror(\"Title\", \"Please, run Aladin.\")"
   ]
  },
  {
   "cell_type": "code",
   "execution_count": null,
   "id": "0a5b569b",
   "metadata": {},
   "outputs": [],
   "source": [
    "class Receiver(object):\n",
    "    def __init__(self, client):\n",
    "        self.client = client\n",
    "        self.received = False\n",
    "    def receive_call(self, private_key, sender_id, msg_id, mtype, params, extra):\n",
    "        self.params = params\n",
    "        self.received = True\n",
    "        self.client.reply(msg_id, {\"samp.status\": \"samp.ok\", \"samp.result\": {}})\n",
    "    def receive_notification(self, private_key, sender_id, mtype, params, extra):\n",
    "        self.params = params\n",
    "        self.received = True"
   ]
  },
  {
   "cell_type": "code",
   "execution_count": 18,
   "id": "61cd5e94",
   "metadata": {},
   "outputs": [
    {
     "name": "stdout",
     "output_type": "stream",
     "text": [
      "CPU times: user 3 µs, sys: 3 µs, total: 6 µs\n",
      "Wall time: 8.82 µs\n"
     ]
    }
   ],
   "source": [
    "import time\n",
    "%time\n",
    "import tkinter\n",
    "from pandas import DataFrame\n",
    "from matplotlib.backends.backend_tkagg import (\n",
    "    FigureCanvasTkAgg, NavigationToolbar2Tk)\n",
    "# Implement the default Matplotlib key bindings.\n",
    "from matplotlib.backend_bases import key_press_handler\n",
    "from matplotlib.figure import Figure\n",
    "\n",
    "import numpy as np\n",
    "\n",
    "def embed_matlib(r, dp_dr, m_dr):\n",
    "    \n",
    "    \n",
    "    data1 = {'distance (Mpc)': r,\n",
    "         'conditional distance probability Mpc$ˆ{-1}$': dp_dr}\n",
    "    df1 = DataFrame(data1,columns=['distance (Mpc)','conditional distance probability Mpc$ˆ{-1}$'])\n",
    "\n",
    "    data2 =  {'distance (Mpc)': r,\n",
    "         'marginal distance probability Mpc$ˆ{-1}$': m_dr}\n",
    "    df2 = DataFrame(data2,columns=['distance (Mpc)','marginal distance probability Mpc$ˆ{-1}$'])\n",
    "\n",
    "    \n",
    "    root = tkinter.Tk()\n",
    "    root.wm_title(\"Embedding in Tk\")\n",
    "\n",
    "    fig = Figure(figsize=(5, 4), dpi=100)\n",
    "    t = np.arange(0, 3, .01)\n",
    "    ax1 = fig.add_subplot(111)\n",
    "    df1 = df1[['distance (Mpc)','conditional distance probability Mpc$ˆ{-1}$']].groupby('distance (Mpc)').sum()\n",
    "    df1.plot(kind='line', legend=True, ax=ax1, color='b',fontsize=10)\n",
    "    ax1.set_title('Probability analysis of the chosen pixel')\n",
    "    df2 = df2[['distance (Mpc)','marginal distance probability Mpc$ˆ{-1}$']].groupby('distance (Mpc)').sum()\n",
    "    df2.plot(kind='line', legend=True, ax=ax1, color='orange',fontsize=10)\n",
    "    \n",
    "\n",
    "    canvas = FigureCanvasTkAgg(fig, master=root)  # A tk.DrawingArea.\n",
    "    canvas.draw()\n",
    "    canvas.get_tk_widget().pack(side=tkinter.TOP, fill=tkinter.BOTH, expand=1)\n",
    "\n",
    "    toolbar = NavigationToolbar2Tk(canvas, root)\n",
    "    toolbar.update()\n",
    "    canvas.get_tk_widget().pack(side=tkinter.TOP, fill=tkinter.BOTH, expand=1)\n",
    "\n",
    "\n",
    "    def on_key_press(event):\n",
    "        print(\"you pressed {}\".format(event.key))\n",
    "        key_press_handler(event, canvas, toolbar)\n",
    "\n",
    "\n",
    "    canvas.mpl_connect(\"key_press_event\", on_key_press)\n",
    "    \n",
    "\n",
    "    def _quit():\n",
    "        root.quit()     # stops mainloop\n",
    "        root.destroy()  # this is necessary on Windows to prevent\n",
    "                    # Fatal Python Error: PyEval_RestoreThread: NULL tstate\n",
    "\n",
    "    #label = tkinter.Label(text='Your current Sky Map is: ' + url, height=4)\n",
    "    #label.pack(side=tkinter.TOP)\n",
    "    \n",
    "    labelText = tkinter.StringVar()\n",
    "    labelText.set('Your current Sky Map is available here:\\n' + url)\n",
    "    labelDir = tkinter.Label(textvariable = labelText, height=5)\n",
    "    labelDir.pack(side=tkinter.TOP)\n",
    "    \n",
    "    button = tkinter.Button(master=root, text=\"Quit\", command=_quit)\n",
    "    button.pack(side=tkinter.BOTTOM)\n",
    "\n",
    "    tkinter.mainloop()\n",
    "# If you put root.destroy() here, it will cause an error if the window is\n",
    "# closed with the window manager."
   ]
  },
  {
   "cell_type": "code",
   "execution_count": 21,
   "id": "2e2ad916",
   "metadata": {
    "scrolled": true
   },
   "outputs": [
    {
     "name": "stdout",
     "output_type": "stream",
     "text": [
      "CPU times: user 1e+03 ns, sys: 1e+03 ns, total: 2 µs\n",
      "Wall time: 5.01 µs\n"
     ]
    }
   ],
   "source": [
    "import time\n",
    "%time\n",
    "import healpy as hp\n",
    "import numpy as np\n",
    "from matplotlib import pyplot as plt\n",
    "from scipy.stats import norm\n",
    "from tkinter import messagebox\n",
    "from astropy.utils.data import download_file\n",
    "\n",
    "try:\n",
    "    position = Receiver(client)\n",
    "\n",
    "    client.bind_receive_call(\n",
    "    \"coord.pointAt.sky\", position.receive_call)\n",
    "    client.bind_receive_notification(\n",
    "    \"coord.pointAt.sky\", position.receive_notification)\n",
    "\n",
    "\n",
    "    while True:\n",
    "        if position.received == True:\n",
    "            ra = float(position.params['ra'])\n",
    "            dec = float(position.params['dec'])\n",
    "        \n",
    "            r, dp_dr, m_dr = dist_dist_along_line_of_sight(url, ra, dec)\n",
    "        \n",
    "            embed_matlib(r, dp_dr, m_dr)\n",
    "            position.received = False    \n",
    "\n",
    "except:\n",
    "    messagebox.showwarning(\"Title\", \"Before running a function, you have to define it through the 'def' command.\")\n",
    "    messagebox.showerror(\"Title\", \"Please, go back and run the code which defines the 'Receiver' class.\")        "
   ]
  },
  {
   "cell_type": "code",
   "execution_count": null,
   "id": "69d71ec6",
   "metadata": {},
   "outputs": [],
   "source": [
    "import tkinter\n",
    "from tkinter import messagebox\n",
    "# hide main window\n",
    "root = tkinter.Tk()\n",
    "messagebox.showwarning(\"Warning\", \"Click a position on the sky-map if you want more info!\")"
   ]
  },
  {
   "cell_type": "code",
   "execution_count": null,
   "id": "f49cebe3",
   "metadata": {},
   "outputs": [],
   "source": [
    "from tkinter import messagebox\n",
    "\n",
    "try:\n",
    "    embed_matlib(r, dp_dr, m_dr)\n",
    "except:\n",
    "     #print(\"Please, run Aladin\")\n",
    "    messagebox.showwarning(\"Title\", \"Before running a function, you have to define it through the 'def' command.\")\n",
    "    messagebox.showerror(\"Title\", \"Please, go back and run the code which defines 'embed_matlib'.\")"
   ]
  },
  {
   "cell_type": "code",
   "execution_count": null,
   "id": "a018e7d8",
   "metadata": {},
   "outputs": [],
   "source": []
  }
 ],
 "metadata": {
  "kernelspec": {
   "display_name": "Python 3",
   "language": "python",
   "name": "python3"
  },
  "language_info": {
   "codemirror_mode": {
    "name": "ipython",
    "version": 3
   },
   "file_extension": ".py",
   "mimetype": "text/x-python",
   "name": "python",
   "nbconvert_exporter": "python",
   "pygments_lexer": "ipython3",
   "version": "3.8.8"
  }
 },
 "nbformat": 4,
 "nbformat_minor": 5
}
